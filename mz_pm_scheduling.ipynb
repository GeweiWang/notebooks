{
 "cells": [
  {
   "cell_type": "code",
   "execution_count": 444,
   "metadata": {},
   "outputs": [],
   "source": [
    "import pandas as pd\n",
    "import numpy as np"
   ]
  },
  {
   "cell_type": "code",
   "execution_count": 445,
   "metadata": {},
   "outputs": [],
   "source": [
    "A = [2, 14]\n",
    "B = [4, 12]\n",
    "C = [2, 13]\n",
    "D = [12, 18]\n",
    "E = [3, 7]\n",
    "F = [3, 7]\n",
    "\n",
    "def dur(x):\n",
    "    #return np.random.randint(x[0], x[1]+1)\n",
    "    return np.random.uniform(x[0], x[1])"
   ]
  },
  {
   "cell_type": "code",
   "execution_count": 446,
   "metadata": {},
   "outputs": [
    {
     "name": "stdout",
     "output_type": "stream",
     "text": [
      "26.0 25.5 23.0\n"
     ]
    }
   ],
   "source": [
    "abef = np.mean(A) + np.mean(B) + np.mean(E) + np.mean(F)\n",
    "acef = np.mean(A) + np.mean(C) + np.mean(E) + np.mean(F)\n",
    "ad   = np.mean(A) + np.mean(D)\n",
    "print(abef, acef, ad)"
   ]
  },
  {
   "cell_type": "code",
   "execution_count": 447,
   "metadata": {},
   "outputs": [
    {
     "data": {
      "text/plain": [
       "14.796502286947794"
      ]
     },
     "execution_count": 447,
     "metadata": {},
     "output_type": "execute_result"
    }
   ],
   "source": [
    "dur(D)"
   ]
  },
  {
   "cell_type": "code",
   "execution_count": 448,
   "metadata": {},
   "outputs": [],
   "source": [
    "def cp_dur():\n",
    "    \"\"\"\n",
    "    path:\n",
    "    -----\n",
    "    0: A-B-E-F\n",
    "    1: A-C-E-F\n",
    "    2: A-D\n",
    "    \"\"\"\n",
    "    path = []\n",
    "    start = {}\n",
    "    a, b, c, d, e, f = dur(A), dur(B), dur(C), dur(D), dur(E), dur(F)\n",
    "    \n",
    "    start['B'] = a\n",
    "    start['C'] = a\n",
    "    start['D'] = a\n",
    "    start['E'] = a + max(b, c)\n",
    "    start['F'] = start['E'] + e\n",
    "    \n",
    "    path.append(a + b + e + f)\n",
    "    path.append(a + c + e + f)\n",
    "    path.append(a + d)\n",
    "    \n",
    "    maxdur = max(path)\n",
    "    start['cpath'] = path.index(maxdur)\n",
    "    start['duration'] = maxdur\n",
    "    \n",
    "    return start"
   ]
  },
  {
   "cell_type": "code",
   "execution_count": 449,
   "metadata": {},
   "outputs": [
    {
     "data": {
      "text/plain": [
       "{'B': 9.157645759372622,\n",
       " 'C': 9.157645759372622,\n",
       " 'D': 9.157645759372622,\n",
       " 'E': 19.442212393134042,\n",
       " 'F': 25.547800228058602,\n",
       " 'cpath': 0,\n",
       " 'duration': 29.06144611402532}"
      ]
     },
     "execution_count": 449,
     "metadata": {},
     "output_type": "execute_result"
    }
   ],
   "source": [
    "cp_dur()"
   ]
  },
  {
   "cell_type": "code",
   "execution_count": 450,
   "metadata": {},
   "outputs": [],
   "source": [
    "sim = []\n",
    "N = 1000000\n",
    "for i in range(N):\n",
    "    sim.append(cp_dur())\n",
    "\n",
    "df = pd.DataFrame()\n",
    "df = df.append(sim)"
   ]
  },
  {
   "cell_type": "code",
   "execution_count": 451,
   "metadata": {},
   "outputs": [
    {
     "data": {
      "text/html": [
       "<div>\n",
       "<style scoped>\n",
       "    .dataframe tbody tr th:only-of-type {\n",
       "        vertical-align: middle;\n",
       "    }\n",
       "\n",
       "    .dataframe tbody tr th {\n",
       "        vertical-align: top;\n",
       "    }\n",
       "\n",
       "    .dataframe thead th {\n",
       "        text-align: right;\n",
       "    }\n",
       "</style>\n",
       "<table border=\"1\" class=\"dataframe\">\n",
       "  <thead>\n",
       "    <tr style=\"text-align: right;\">\n",
       "      <th></th>\n",
       "      <th>B</th>\n",
       "      <th>C</th>\n",
       "      <th>D</th>\n",
       "      <th>E</th>\n",
       "      <th>F</th>\n",
       "      <th>cpath</th>\n",
       "      <th>duration</th>\n",
       "    </tr>\n",
       "  </thead>\n",
       "  <tbody>\n",
       "    <tr>\n",
       "      <td>0</td>\n",
       "      <td>8.806274</td>\n",
       "      <td>8.806274</td>\n",
       "      <td>8.806274</td>\n",
       "      <td>19.639339</td>\n",
       "      <td>26.427850</td>\n",
       "      <td>0</td>\n",
       "      <td>32.633819</td>\n",
       "    </tr>\n",
       "    <tr>\n",
       "      <td>1</td>\n",
       "      <td>6.784686</td>\n",
       "      <td>6.784686</td>\n",
       "      <td>6.784686</td>\n",
       "      <td>15.940220</td>\n",
       "      <td>22.212514</td>\n",
       "      <td>1</td>\n",
       "      <td>26.050081</td>\n",
       "    </tr>\n",
       "    <tr>\n",
       "      <td>2</td>\n",
       "      <td>13.968387</td>\n",
       "      <td>13.968387</td>\n",
       "      <td>13.968387</td>\n",
       "      <td>22.336405</td>\n",
       "      <td>27.400571</td>\n",
       "      <td>1</td>\n",
       "      <td>34.141940</td>\n",
       "    </tr>\n",
       "    <tr>\n",
       "      <td>3</td>\n",
       "      <td>8.873322</td>\n",
       "      <td>8.873322</td>\n",
       "      <td>8.873322</td>\n",
       "      <td>16.026987</td>\n",
       "      <td>20.228001</td>\n",
       "      <td>2</td>\n",
       "      <td>26.245670</td>\n",
       "    </tr>\n",
       "    <tr>\n",
       "      <td>4</td>\n",
       "      <td>3.156548</td>\n",
       "      <td>3.156548</td>\n",
       "      <td>3.156548</td>\n",
       "      <td>12.496467</td>\n",
       "      <td>17.416256</td>\n",
       "      <td>1</td>\n",
       "      <td>22.480168</td>\n",
       "    </tr>\n",
       "    <tr>\n",
       "      <td>...</td>\n",
       "      <td>...</td>\n",
       "      <td>...</td>\n",
       "      <td>...</td>\n",
       "      <td>...</td>\n",
       "      <td>...</td>\n",
       "      <td>...</td>\n",
       "      <td>...</td>\n",
       "    </tr>\n",
       "    <tr>\n",
       "      <td>999995</td>\n",
       "      <td>12.295762</td>\n",
       "      <td>12.295762</td>\n",
       "      <td>12.295762</td>\n",
       "      <td>24.146036</td>\n",
       "      <td>30.562599</td>\n",
       "      <td>0</td>\n",
       "      <td>36.588064</td>\n",
       "    </tr>\n",
       "    <tr>\n",
       "      <td>999996</td>\n",
       "      <td>2.946918</td>\n",
       "      <td>2.946918</td>\n",
       "      <td>2.946918</td>\n",
       "      <td>7.650745</td>\n",
       "      <td>11.996830</td>\n",
       "      <td>0</td>\n",
       "      <td>18.052101</td>\n",
       "    </tr>\n",
       "    <tr>\n",
       "      <td>999997</td>\n",
       "      <td>4.137436</td>\n",
       "      <td>4.137436</td>\n",
       "      <td>4.137436</td>\n",
       "      <td>14.955406</td>\n",
       "      <td>20.673866</td>\n",
       "      <td>1</td>\n",
       "      <td>25.386988</td>\n",
       "    </tr>\n",
       "    <tr>\n",
       "      <td>999998</td>\n",
       "      <td>11.297176</td>\n",
       "      <td>11.297176</td>\n",
       "      <td>11.297176</td>\n",
       "      <td>22.327063</td>\n",
       "      <td>27.909387</td>\n",
       "      <td>1</td>\n",
       "      <td>33.064902</td>\n",
       "    </tr>\n",
       "    <tr>\n",
       "      <td>999999</td>\n",
       "      <td>3.811371</td>\n",
       "      <td>3.811371</td>\n",
       "      <td>3.811371</td>\n",
       "      <td>16.366837</td>\n",
       "      <td>22.390260</td>\n",
       "      <td>1</td>\n",
       "      <td>29.362727</td>\n",
       "    </tr>\n",
       "  </tbody>\n",
       "</table>\n",
       "<p>1000000 rows × 7 columns</p>\n",
       "</div>"
      ],
      "text/plain": [
       "                B          C          D          E          F  cpath  \\\n",
       "0        8.806274   8.806274   8.806274  19.639339  26.427850      0   \n",
       "1        6.784686   6.784686   6.784686  15.940220  22.212514      1   \n",
       "2       13.968387  13.968387  13.968387  22.336405  27.400571      1   \n",
       "3        8.873322   8.873322   8.873322  16.026987  20.228001      2   \n",
       "4        3.156548   3.156548   3.156548  12.496467  17.416256      1   \n",
       "...           ...        ...        ...        ...        ...    ...   \n",
       "999995  12.295762  12.295762  12.295762  24.146036  30.562599      0   \n",
       "999996   2.946918   2.946918   2.946918   7.650745  11.996830      0   \n",
       "999997   4.137436   4.137436   4.137436  14.955406  20.673866      1   \n",
       "999998  11.297176  11.297176  11.297176  22.327063  27.909387      1   \n",
       "999999   3.811371   3.811371   3.811371  16.366837  22.390260      1   \n",
       "\n",
       "         duration  \n",
       "0       32.633819  \n",
       "1       26.050081  \n",
       "2       34.141940  \n",
       "3       26.245670  \n",
       "4       22.480168  \n",
       "...           ...  \n",
       "999995  36.588064  \n",
       "999996  18.052101  \n",
       "999997  25.386988  \n",
       "999998  33.064902  \n",
       "999999  29.362727  \n",
       "\n",
       "[1000000 rows x 7 columns]"
      ]
     },
     "execution_count": 451,
     "metadata": {},
     "output_type": "execute_result"
    }
   ],
   "source": [
    "df"
   ]
  },
  {
   "cell_type": "code",
   "execution_count": 452,
   "metadata": {},
   "outputs": [
    {
     "data": {
      "text/plain": [
       "cpath\n",
       "0    479524\n",
       "1    424461\n",
       "2     96015\n",
       "dtype: int64"
      ]
     },
     "execution_count": 452,
     "metadata": {},
     "output_type": "execute_result"
    }
   ],
   "source": [
    "df.groupby('cpath').size()"
   ]
  },
  {
   "cell_type": "code",
   "execution_count": 453,
   "metadata": {},
   "outputs": [
    {
     "data": {
      "text/plain": [
       "cpath\n",
       "0    27.43\n",
       "1    28.30\n",
       "2    24.50\n",
       "Name: duration, dtype: float64"
      ]
     },
     "execution_count": 453,
     "metadata": {},
     "output_type": "execute_result"
    }
   ],
   "source": [
    "df.groupby('cpath').duration.mean().round(2)"
   ]
  },
  {
   "cell_type": "code",
   "execution_count": 454,
   "metadata": {},
   "outputs": [
    {
     "data": {
      "text/plain": [
       "B     8.00\n",
       "C     8.00\n",
       "D     8.00\n",
       "E    17.37\n",
       "F    22.37\n",
       "dtype: float64"
      ]
     },
     "execution_count": 454,
     "metadata": {},
     "output_type": "execute_result"
    }
   ],
   "source": [
    "df[['B', 'C', 'D', 'E', 'F']].mean().round(2)"
   ]
  }
 ],
 "metadata": {
  "kernelspec": {
   "display_name": "Python 3",
   "language": "python",
   "name": "python3"
  },
  "language_info": {
   "codemirror_mode": {
    "name": "ipython",
    "version": 3
   },
   "file_extension": ".py",
   "mimetype": "text/x-python",
   "name": "python",
   "nbconvert_exporter": "python",
   "pygments_lexer": "ipython3",
   "version": "3.7.4"
  }
 },
 "nbformat": 4,
 "nbformat_minor": 2
}
