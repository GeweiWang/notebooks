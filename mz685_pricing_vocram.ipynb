{
 "cells": [
  {
   "cell_type": "markdown",
   "metadata": {},
   "source": [
    "### Simulate the flight reservation process (MZ685 Case Vocram)"
   ]
  },
  {
   "cell_type": "code",
   "execution_count": 1,
   "metadata": {},
   "outputs": [],
   "source": [
    "import pandas as pd\n",
    "import numpy as np\n",
    "import matplotlib.pyplot as plt\n",
    "from random import random"
   ]
  },
  {
   "cell_type": "code",
   "execution_count": 2,
   "metadata": {},
   "outputs": [],
   "source": [
    "# Constants\n",
    "FLIGHTS = 1000    # The number of flights for simulation (can be changed)\n",
    "CALLS = 10        # The number of calls for each flight\n",
    "SEATS = 3         # The number of available seats for each flight\n",
    "WTP_PUBLIC = 100  # The WTP upper bound of public employee\n",
    "WTP_PRIVATE = 150 # The WTP upper bound of private individual\n",
    "P = 0.5           # P:   The probability of a call being public employee \n",
    "                  # 1-P: The probability of a call being private individual"
   ]
  },
  {
   "cell_type": "markdown",
   "metadata": {},
   "source": [
    "### Replicate the Status Quo\n",
    "\n",
    "Assumptions:\n",
    "\n",
    "* Single price: $65\n",
    "* The WTP of public employee follows a discrete uniform distribution [1, 100]\n",
    "* The WTP of private individual follows a discrete uniform distribution [1, 150]\n",
    "* A strict first-call first-serve system: whoever called and made a reservation for a specific departure would be given a seat, provided one was available.\n",
    "\n",
    "Simulation results are expected to be in line with the fact:\n",
    "\n",
    "Historically, 40% of the clients were scientists/researchers/public employees and 60% were private individuals."
   ]
  },
  {
   "cell_type": "code",
   "execution_count": 3,
   "metadata": {},
   "outputs": [],
   "source": [
    "def one_flight(flight_no, price, reservations):\n",
    "    \"\"\"Simulate the reservation process for one flight.\n",
    "    \n",
    "    Parameters\n",
    "    ----------\n",
    "    flight_no: flight sequence number for bookkeeping\n",
    "    \"\"\"\n",
    "    seats_left = SEATS\n",
    "    \n",
    "    for i in range(CALLS):\n",
    "        whocall = [0, 1][random()>P]\n",
    "        if whocall == 0: # 0-public employee\n",
    "            wtp = np.random.randint(1, WTP_PUBLIC+1)\n",
    "            if wtp >= price:\n",
    "                seats_left -= 1\n",
    "                reservations.append((flight_no, whocall, wtp))\n",
    "                if seats_left == 0:\n",
    "                    break\n",
    "        elif whocall == 1: # 1-private individual\n",
    "            wtp = np.random.randint(1, WTP_PRIVATE+1)\n",
    "            if wtp >= price:\n",
    "                seats_left -= 1\n",
    "                reservations.append((flight_no, whocall, wtp))\n",
    "                if seats_left == 0:\n",
    "                    break     "
   ]
  },
  {
   "cell_type": "code",
   "execution_count": 4,
   "metadata": {},
   "outputs": [],
   "source": [
    "def revenue(price, more_info=False):\n",
    "    \"\"\"Simulate FLIGHT times and return the average revenue per flight.\n",
    "    \"\"\"\n",
    "    reservations = []\n",
    "    \n",
    "    for i in range(1, FLIGHTS+1):\n",
    "        one_flight(i, price, reservations)\n",
    "    \n",
    "    avg_revenue = price * len(reservations) / FLIGHTS\n",
    "    \n",
    "    if more_info == True:\n",
    "        print('The # of availabe seats in {} flights is {}. The # of seats sold is {}.' \\\n",
    "              .format(FLIGHTS, FLIGHTS*SEATS, len(reservations)))\n",
    "        pcnt = ((pd.DataFrame(reservations, columns=['flight_no', 'whocall', 'wtp'])). \\\n",
    "                groupby('whocall').size()) / len(reservations) * 100\n",
    "        title = 'Price: \\$' + str(price) + ',  Average revenue per flight: \\$' + str(round(avg_revenue)) + \\\n",
    "                '\\n' + ' %' + str(round(len(reservations) / (FLIGHTS*SEATS) * 100)) + ' seats were sold'\n",
    "        ax = pcnt.plot(kind='bar', title=title, figsize=(8,5))\n",
    "        ax.set_xlabel(\"0-public employee   1-private individual\")\n",
    "        ax.set_ylabel(\"Percent (%)\")\n",
    "        \n",
    "    return avg_revenue"
   ]
  },
  {
   "cell_type": "code",
   "execution_count": 5,
   "metadata": {},
   "outputs": [
    {
     "name": "stdout",
     "output_type": "stream",
     "text": [
      "The # of availabe seats in 1000 flights is 3000. The # of seats sold is 2895.\n"
     ]
    },
    {
     "data": {
      "text/plain": [
       "188.175"
      ]
     },
     "execution_count": 5,
     "metadata": {},
     "output_type": "execute_result"
    },
    {
     "data": {
      "image/png": "[encoded data removed]",
      "text/plain": [
       "<Figure size 576x360 with 1 Axes>"
      ]
     },
     "metadata": {
      "needs_background": "light"
     },
     "output_type": "display_data"
    }
   ],
   "source": [
    "revenue(65, True)"
   ]
  },
  {
   "cell_type": "markdown",
   "metadata": {},
   "source": [
    "### Get the Optimal Single Price"
   ]
  },
  {
   "cell_type": "code",
   "execution_count": 6,
   "metadata": {},
   "outputs": [
    {
     "name": "stdout",
     "output_type": "stream",
     "text": [
      "80 210.88\n"
     ]
    }
   ],
   "source": [
    "# Step 1: Get a rough range of the optimal single price\n",
    "\n",
    "optimal_price, max_revenue = 1, 1\n",
    "\n",
    "for p in range(60, 150):\n",
    "    r = revenue(p)\n",
    "    if max_revenue < r:\n",
    "        optimal_price, max_revenue = p, r\n",
    "        \n",
    "print(optimal_price, max_revenue)"
   ]
  },
  {
   "cell_type": "code",
   "execution_count": 7,
   "metadata": {},
   "outputs": [],
   "source": [
    "# Step 2: Run simulation many times within a smaller price range\n",
    "\n",
    "optima = []\n",
    "\n",
    "for i in range(100):\n",
    "    optimal_price, max_revenue = 1, 1\n",
    "    \n",
    "    for p in range(75, 90):\n",
    "        r = revenue(p)\n",
    "        if max_revenue < r:\n",
    "            optimal_price, max_revenue = p, r\n",
    "            \n",
    "    optima.append((optimal_price, max_revenue))    "
   ]
  },
  {
   "cell_type": "code",
   "execution_count": 8,
   "metadata": {},
   "outputs": [
    {
     "data": {
      "text/plain": [
       "price       81.54000\n",
       "revenue    211.05657\n",
       "dtype: float64"
      ]
     },
     "execution_count": 8,
     "metadata": {},
     "output_type": "execute_result"
    }
   ],
   "source": [
    "# Step 3: Average the results from Step 2 to get the optimal single price\n",
    "\n",
    "(pd.DataFrame(optima, columns=['price', 'revenue'])).mean()"
   ]
  },
  {
   "cell_type": "code",
   "execution_count": 9,
   "metadata": {},
   "outputs": [
    {
     "name": "stdout",
     "output_type": "stream",
     "text": [
      "The # of availabe seats in 1000 flights is 3000. The # of seats sold is 2545.\n"
     ]
    },
    {
     "data": {
      "text/plain": [
       "208.69"
      ]
     },
     "execution_count": 9,
     "metadata": {},
     "output_type": "execute_result"
    },
    {
     "data": {
      "image/png": "[encoded data removed]",
      "text/plain": [
       "<Figure size 576x360 with 1 Axes>"
      ]
     },
     "metadata": {
      "needs_background": "light"
     },
     "output_type": "display_data"
    }
   ],
   "source": [
    "revenue(82, True)"
   ]
  },
  {
   "cell_type": "markdown",
   "metadata": {},
   "source": [
    "### Two-tier Pricing\n",
    "\n",
    "Assumptions:\n",
    "* Stu will ask a customer calling in to know what type the person belongs to. For public employee, he will quote the high price; for private individual, he will quote the low price.\n",
    "* Stu doesn't set a booking limit for public employee.\n"
   ]
  },
  {
   "cell_type": "code",
   "execution_count": 10,
   "metadata": {},
   "outputs": [],
   "source": [
    "def one_flight_two_tier(flight_no, high_price, low_price, reservations, booking_limit=SEATS):\n",
    "    \"\"\" Simulate the reservation process for one flight with two-tier pricing system\n",
    "    \n",
    "    Parameters\n",
    "    ----------\n",
    "    flight_no: flight sequence number for bookkeeping\n",
    "    high_price: price for private individual\n",
    "    low_price:  price for public employee\n",
    "    booking_limit: the max number of seats allocated to public employee per flight\n",
    "    \"\"\"\n",
    "\n",
    "    seats_left = SEATS\n",
    "    seats_for_public = booking_limit\n",
    "    \n",
    "    for i in range(CALLS):\n",
    "        whocall = [0, 1][random()>P]\n",
    "        if whocall == 0: # 0-public employee\n",
    "            wtp = np.random.randint(1, WTP_PUBLIC+1)\n",
    "            if seats_for_public == 0:\n",
    "                continue\n",
    "            if wtp >= low_price:\n",
    "                seats_left -= 1\n",
    "                seats_for_public -= 1\n",
    "                reservations.append((flight_no, whocall, wtp))\n",
    "                if seats_left == 0:\n",
    "                    break\n",
    "        elif whocall == 1: # 1-private individual\n",
    "            wtp = np.random.randint(1, WTP_PRIVATE+1)\n",
    "            if wtp >= high_price:\n",
    "                seats_left -= 1\n",
    "                reservations.append((flight_no, whocall, wtp))\n",
    "                if seats_left == 0:\n",
    "                    break"
   ]
  },
  {
   "cell_type": "code",
   "execution_count": 11,
   "metadata": {},
   "outputs": [],
   "source": [
    "def revenue_two_tier(high_price, low_price, booking_limit=SEATS, more_info=False):\n",
    "    \"\"\"Return the average revenue per flight\n",
    "    \"\"\"\n",
    "    reservations = []\n",
    "    \n",
    "    for i in range(1, FLIGHTS+1):\n",
    "        one_flight_two_tier(i, high_price, low_price, reservations, booking_limit)\n",
    "    \n",
    "    df = pd.DataFrame(reservations, columns=['flight_no', 'whocall', 'wtp'])\n",
    "    avg_revenue = (high_price * len(df[df.whocall==1]) + low_price * len(df[df.whocall==0])) / FLIGHTS\n",
    "    \n",
    "    if more_info == True:\n",
    "        print('The # of availabe seats in {} flights is {}. The # of seats sold is {}.' \\\n",
    "              .format(FLIGHTS, FLIGHTS*SEATS, len(reservations)))\n",
    "        pcnt = df.groupby('whocall').size() / len(reservations) * 100\n",
    "        title = 'High Price: \\$' + str(high_price) + ', Low Price: \\$' + str(low_price) + \\\n",
    "                '\\nAverage revenue per flight: \\$' + str(round(avg_revenue)) + \\\n",
    "                '\\n' + ' %' + str(round(len(reservations) / (FLIGHTS*SEATS) * 100)) + ' seats were sold'\n",
    "        ax = pcnt.plot(kind='bar', title=title, figsize=(8,5))\n",
    "        ax.set_xlabel(\"0-public employee   1-private individual\")\n",
    "        ax.set_ylabel(\"Percent (%)\")\n",
    "        \n",
    "    return avg_revenue"
   ]
  },
  {
   "cell_type": "markdown",
   "metadata": {},
   "source": [
    "### Get the Optimal Two-tier System"
   ]
  },
  {
   "cell_type": "code",
   "execution_count": 12,
   "metadata": {},
   "outputs": [
    {
     "name": "stdout",
     "output_type": "stream",
     "text": [
      "103 73 224.178\n"
     ]
    }
   ],
   "source": [
    "# Step 1: Get rough ranges of the optimal two prices\n",
    "\n",
    "optimal_high_price, optimal_low_price, max_revenue = 1, 1, 1\n",
    "\n",
    "for high in range(70, 150):\n",
    "    for low in range(50, 100):\n",
    "        r = revenue_two_tier(high, low)\n",
    "        if max_revenue < r:\n",
    "            max_revenue = r\n",
    "            optimal_high_price, optimal_low_price = high, low\n",
    "            \n",
    "print(optimal_high_price, optimal_low_price, max_revenue)"
   ]
  },
  {
   "cell_type": "code",
   "execution_count": 13,
   "metadata": {},
   "outputs": [],
   "source": [
    "# Step 2: Run simulation many times within smaller price ranges\n",
    "\n",
    "N = 100\n",
    "optima = []\n",
    "\n",
    "for i in range(N):\n",
    "    optimal_high_price, optimal_low_price, max_revenue = 1, 1, 1\n",
    "    \n",
    "    for high in range(90, 110):\n",
    "        for low in range(65, 80):\n",
    "            r = revenue_two_tier(high, low)\n",
    "            if max_revenue < r:\n",
    "                max_revenue = r\n",
    "                optimal_high_price, optimal_low_price = high, low\n",
    "                \n",
    "    optima.append((optimal_high_price, optimal_low_price, max_revenue))   \n"
   ]
  },
  {
   "cell_type": "code",
   "execution_count": 14,
   "metadata": {},
   "outputs": [
    {
     "data": {
      "text/plain": [
       "high_price     97.9200\n",
       "low_price      72.6400\n",
       "revenue       223.4259\n",
       "dtype: float64"
      ]
     },
     "execution_count": 14,
     "metadata": {},
     "output_type": "execute_result"
    }
   ],
   "source": [
    "# Step 3: Average the results from Step 2 to get the optimal two prices\n",
    "\n",
    "(pd.DataFrame(optima, columns=['high_price', 'low_price', 'revenue'])).mean()"
   ]
  },
  {
   "cell_type": "code",
   "execution_count": 20,
   "metadata": {},
   "outputs": [
    {
     "name": "stdout",
     "output_type": "stream",
     "text": [
      "The # of availabe seats in 1000 flights is 3000. The # of seats sold is 2523.\n"
     ]
    },
    {
     "data": {
      "text/plain": [
       "218.754"
      ]
     },
     "execution_count": 20,
     "metadata": {},
     "output_type": "execute_result"
    },
    {
     "data": {
      "image/png": "[encoded data removed]",
      "text/plain": [
       "<Figure size 576x360 with 1 Axes>"
      ]
     },
     "metadata": {
      "needs_background": "light"
     },
     "output_type": "display_data"
    }
   ],
   "source": [
    "revenue_two_tier(98, 73, more_info=True)"
   ]
  },
  {
   "cell_type": "code",
   "execution_count": null,
   "metadata": {},
   "outputs": [],
   "source": []
  }
 ],
 "metadata": {
  "kernelspec": {
   "display_name": "Python 3",
   "language": "python",
   "name": "python3"
  },
  "language_info": {
   "codemirror_mode": {
    "name": "ipython",
    "version": 3
   },
   "file_extension": ".py",
   "mimetype": "text/x-python",
   "name": "python",
   "nbconvert_exporter": "python",
   "pygments_lexer": "ipython3",
   "version": "3.7.4"
  }
 },
 "nbformat": 4,
 "nbformat_minor": 2
}
